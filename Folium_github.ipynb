{
 "cells": [
  {
   "cell_type": "code",
   "execution_count": 1,
   "metadata": {},
   "outputs": [],
   "source": [
    "import numpy as np\n",
    "import pandas as pd\n",
    "import folium\n",
    "from folium.plugins import MarkerCluster"
   ]
  },
  {
   "cell_type": "code",
   "execution_count": 2,
   "metadata": {},
   "outputs": [
    {
     "data": {
      "text/html": [
       "<div>\n",
       "<style scoped>\n",
       "    .dataframe tbody tr th:only-of-type {\n",
       "        vertical-align: middle;\n",
       "    }\n",
       "\n",
       "    .dataframe tbody tr th {\n",
       "        vertical-align: top;\n",
       "    }\n",
       "\n",
       "    .dataframe thead th {\n",
       "        text-align: right;\n",
       "    }\n",
       "</style>\n",
       "<table border=\"1\" class=\"dataframe\">\n",
       "  <thead>\n",
       "    <tr style=\"text-align: right;\">\n",
       "      <th></th>\n",
       "      <th>Country</th>\n",
       "      <th>Broadband Speed Rank</th>\n",
       "      <th>Broadband Mbps</th>\n",
       "      <th>Mobile Speed Rank</th>\n",
       "      <th>Mobile Mbps</th>\n",
       "      <th>As of</th>\n",
       "    </tr>\n",
       "  </thead>\n",
       "  <tbody>\n",
       "    <tr>\n",
       "      <th>0</th>\n",
       "      <td>Monaco</td>\n",
       "      <td>1.0</td>\n",
       "      <td>192.68</td>\n",
       "      <td>NaN</td>\n",
       "      <td>NaN</td>\n",
       "      <td>January 2022</td>\n",
       "    </tr>\n",
       "    <tr>\n",
       "      <th>1</th>\n",
       "      <td>Singapore</td>\n",
       "      <td>2.0</td>\n",
       "      <td>192.01</td>\n",
       "      <td>19.0</td>\n",
       "      <td>64.92</td>\n",
       "      <td>January 2022</td>\n",
       "    </tr>\n",
       "    <tr>\n",
       "      <th>2</th>\n",
       "      <td>Chile</td>\n",
       "      <td>3.0</td>\n",
       "      <td>189.36</td>\n",
       "      <td>109.0</td>\n",
       "      <td>15.50</td>\n",
       "      <td>January 2022</td>\n",
       "    </tr>\n",
       "    <tr>\n",
       "      <th>3</th>\n",
       "      <td>Thailand</td>\n",
       "      <td>4.0</td>\n",
       "      <td>184.03</td>\n",
       "      <td>56.0</td>\n",
       "      <td>32.38</td>\n",
       "      <td>January 2022</td>\n",
       "    </tr>\n",
       "    <tr>\n",
       "      <th>4</th>\n",
       "      <td>Hong Kong (SAR)</td>\n",
       "      <td>5.0</td>\n",
       "      <td>173.42</td>\n",
       "      <td>38.0</td>\n",
       "      <td>45.86</td>\n",
       "      <td>January 2022</td>\n",
       "    </tr>\n",
       "  </tbody>\n",
       "</table>\n",
       "</div>"
      ],
      "text/plain": [
       "           Country  Broadband Speed Rank  Broadband Mbps  Mobile Speed Rank  \\\n",
       "0           Monaco                   1.0          192.68                NaN   \n",
       "1        Singapore                   2.0          192.01               19.0   \n",
       "2            Chile                   3.0          189.36              109.0   \n",
       "3         Thailand                   4.0          184.03               56.0   \n",
       "4  Hong Kong (SAR)                   5.0          173.42               38.0   \n",
       "\n",
       "   Mobile Mbps         As of  \n",
       "0          NaN  January 2022  \n",
       "1        64.92  January 2022  \n",
       "2        15.50  January 2022  \n",
       "3        32.38  January 2022  \n",
       "4        45.86  January 2022  "
      ]
     },
     "execution_count": 2,
     "metadata": {},
     "output_type": "execute_result"
    }
   ],
   "source": [
    "df=pd.read_csv('internet_speed.csv')\n",
    "df.head()"
   ]
  },
  {
   "cell_type": "code",
   "execution_count": 3,
   "metadata": {},
   "outputs": [
    {
     "data": {
      "text/plain": [
       "(179, 6)"
      ]
     },
     "execution_count": 3,
     "metadata": {},
     "output_type": "execute_result"
    }
   ],
   "source": [
    "df.shape"
   ]
  },
  {
   "cell_type": "code",
   "execution_count": 4,
   "metadata": {},
   "outputs": [
    {
     "name": "stdout",
     "output_type": "stream",
     "text": [
      "<class 'pandas.core.frame.DataFrame'>\n",
      "RangeIndex: 179 entries, 0 to 178\n",
      "Data columns (total 6 columns):\n",
      " #   Column                Non-Null Count  Dtype  \n",
      "---  ------                --------------  -----  \n",
      " 0   Country               179 non-null    object \n",
      " 1   Broadband Speed Rank  179 non-null    float64\n",
      " 2   Broadband Mbps        179 non-null    float64\n",
      " 3   Mobile Speed Rank     139 non-null    float64\n",
      " 4   Mobile Mbps           139 non-null    float64\n",
      " 5   As of                 179 non-null    object \n",
      "dtypes: float64(4), object(2)\n",
      "memory usage: 8.5+ KB\n"
     ]
    }
   ],
   "source": [
    "df.info()"
   ]
  },
  {
   "cell_type": "code",
   "execution_count": 5,
   "metadata": {},
   "outputs": [],
   "source": [
    "num_col=df.select_dtypes(include='float64')"
   ]
  },
  {
   "cell_type": "code",
   "execution_count": 6,
   "metadata": {},
   "outputs": [
    {
     "name": "stdout",
     "output_type": "stream",
     "text": [
      "Percentage of NaN in numerical features:\n",
      " Broadband Speed Rank     0\n",
      "Broadband Mbps           0\n",
      "Mobile Speed Rank       40\n",
      "Mobile Mbps             40\n",
      "dtype: int64\n"
     ]
    }
   ],
   "source": [
    "print('Percentage of NaN in numerical features:\\n',num_col.isna().sum())"
   ]
  },
  {
   "cell_type": "code",
   "execution_count": 7,
   "metadata": {},
   "outputs": [],
   "source": [
    "df.dropna(inplace=True)"
   ]
  },
  {
   "cell_type": "code",
   "execution_count": 8,
   "metadata": {},
   "outputs": [
    {
     "data": {
      "text/plain": [
       "(139, 6)"
      ]
     },
     "execution_count": 8,
     "metadata": {},
     "output_type": "execute_result"
    }
   ],
   "source": [
    "df.shape"
   ]
  },
  {
   "cell_type": "code",
   "execution_count": 9,
   "metadata": {},
   "outputs": [],
   "source": [
    "df.drop(['As of'],axis=1,inplace=True)"
   ]
  },
  {
   "cell_type": "code",
   "execution_count": 10,
   "metadata": {},
   "outputs": [
    {
     "data": {
      "text/html": [
       "<div>\n",
       "<style scoped>\n",
       "    .dataframe tbody tr th:only-of-type {\n",
       "        vertical-align: middle;\n",
       "    }\n",
       "\n",
       "    .dataframe tbody tr th {\n",
       "        vertical-align: top;\n",
       "    }\n",
       "\n",
       "    .dataframe thead th {\n",
       "        text-align: right;\n",
       "    }\n",
       "</style>\n",
       "<table border=\"1\" class=\"dataframe\">\n",
       "  <thead>\n",
       "    <tr style=\"text-align: right;\">\n",
       "      <th></th>\n",
       "      <th>Country</th>\n",
       "      <th>Broadband Speed Rank</th>\n",
       "      <th>Broadband Mbps</th>\n",
       "      <th>Mobile Speed Rank</th>\n",
       "      <th>Mobile Mbps</th>\n",
       "    </tr>\n",
       "  </thead>\n",
       "  <tbody>\n",
       "    <tr>\n",
       "      <th>1</th>\n",
       "      <td>Singapore</td>\n",
       "      <td>2.0</td>\n",
       "      <td>192.01</td>\n",
       "      <td>19.0</td>\n",
       "      <td>64.92</td>\n",
       "    </tr>\n",
       "    <tr>\n",
       "      <th>2</th>\n",
       "      <td>Chile</td>\n",
       "      <td>3.0</td>\n",
       "      <td>189.36</td>\n",
       "      <td>109.0</td>\n",
       "      <td>15.50</td>\n",
       "    </tr>\n",
       "    <tr>\n",
       "      <th>3</th>\n",
       "      <td>Thailand</td>\n",
       "      <td>4.0</td>\n",
       "      <td>184.03</td>\n",
       "      <td>56.0</td>\n",
       "      <td>32.38</td>\n",
       "    </tr>\n",
       "    <tr>\n",
       "      <th>4</th>\n",
       "      <td>Hong Kong (SAR)</td>\n",
       "      <td>5.0</td>\n",
       "      <td>173.42</td>\n",
       "      <td>38.0</td>\n",
       "      <td>45.86</td>\n",
       "    </tr>\n",
       "    <tr>\n",
       "      <th>5</th>\n",
       "      <td>Denmark</td>\n",
       "      <td>6.0</td>\n",
       "      <td>163.60</td>\n",
       "      <td>8.0</td>\n",
       "      <td>87.11</td>\n",
       "    </tr>\n",
       "  </tbody>\n",
       "</table>\n",
       "</div>"
      ],
      "text/plain": [
       "           Country  Broadband Speed Rank  Broadband Mbps  Mobile Speed Rank  \\\n",
       "1        Singapore                   2.0          192.01               19.0   \n",
       "2            Chile                   3.0          189.36              109.0   \n",
       "3         Thailand                   4.0          184.03               56.0   \n",
       "4  Hong Kong (SAR)                   5.0          173.42               38.0   \n",
       "5          Denmark                   6.0          163.60                8.0   \n",
       "\n",
       "   Mobile Mbps  \n",
       "1        64.92  \n",
       "2        15.50  \n",
       "3        32.38  \n",
       "4        45.86  \n",
       "5        87.11  "
      ]
     },
     "execution_count": 10,
     "metadata": {},
     "output_type": "execute_result"
    }
   ],
   "source": [
    "df.head()"
   ]
  },
  {
   "cell_type": "code",
   "execution_count": 11,
   "metadata": {},
   "outputs": [],
   "source": [
    "from pycountry_convert import country_alpha2_to_continent_code, country_name_to_country_alpha2\n",
    "def get_continent(col):\n",
    "    try:\n",
    "        cn_a2_code =  country_name_to_country_alpha2(col)\n",
    "    except:\n",
    "        cn_a2_code = 'Unknown' \n",
    "    try:\n",
    "        cn_continent = country_alpha2_to_continent_code(cn_a2_code)\n",
    "    except:\n",
    "        cn_continent = 'Unknown' \n",
    "    return (cn_a2_code, cn_continent,col)"
   ]
  },
  {
   "cell_type": "code",
   "execution_count": 12,
   "metadata": {},
   "outputs": [],
   "source": [
    "b=[]\n",
    "for i in df['Country']:\n",
    "    a=get_continent(i)\n",
    "    b.append(a)"
   ]
  },
  {
   "cell_type": "code",
   "execution_count": 13,
   "metadata": {},
   "outputs": [],
   "source": [
    "df1=pd.DataFrame(b,columns=['country_code','continent','Country'])"
   ]
  },
  {
   "cell_type": "code",
   "execution_count": 14,
   "metadata": {},
   "outputs": [
    {
     "name": "stdout",
     "output_type": "stream",
     "text": [
      "<class 'pandas.core.frame.DataFrame'>\n",
      "RangeIndex: 139 entries, 0 to 138\n",
      "Data columns (total 3 columns):\n",
      " #   Column        Non-Null Count  Dtype \n",
      "---  ------        --------------  ----- \n",
      " 0   country_code  139 non-null    object\n",
      " 1   continent     139 non-null    object\n",
      " 2   Country       139 non-null    object\n",
      "dtypes: object(3)\n",
      "memory usage: 3.4+ KB\n",
      "<class 'pandas.core.frame.DataFrame'>\n",
      "Int64Index: 139 entries, 1 to 178\n",
      "Data columns (total 5 columns):\n",
      " #   Column                Non-Null Count  Dtype  \n",
      "---  ------                --------------  -----  \n",
      " 0   Country               139 non-null    object \n",
      " 1   Broadband Speed Rank  139 non-null    float64\n",
      " 2   Broadband Mbps        139 non-null    float64\n",
      " 3   Mobile Speed Rank     139 non-null    float64\n",
      " 4   Mobile Mbps           139 non-null    float64\n",
      "dtypes: float64(4), object(1)\n",
      "memory usage: 6.5+ KB\n"
     ]
    },
    {
     "data": {
      "text/plain": [
       "(None, None)"
      ]
     },
     "execution_count": 14,
     "metadata": {},
     "output_type": "execute_result"
    }
   ],
   "source": [
    "df1.info(),df.info()"
   ]
  },
  {
   "cell_type": "code",
   "execution_count": 15,
   "metadata": {},
   "outputs": [
    {
     "data": {
      "text/html": [
       "<div>\n",
       "<style scoped>\n",
       "    .dataframe tbody tr th:only-of-type {\n",
       "        vertical-align: middle;\n",
       "    }\n",
       "\n",
       "    .dataframe tbody tr th {\n",
       "        vertical-align: top;\n",
       "    }\n",
       "\n",
       "    .dataframe thead th {\n",
       "        text-align: right;\n",
       "    }\n",
       "</style>\n",
       "<table border=\"1\" class=\"dataframe\">\n",
       "  <thead>\n",
       "    <tr style=\"text-align: right;\">\n",
       "      <th></th>\n",
       "      <th>Country</th>\n",
       "    </tr>\n",
       "  </thead>\n",
       "  <tbody>\n",
       "    <tr>\n",
       "      <th>0</th>\n",
       "      <td>Singapore</td>\n",
       "    </tr>\n",
       "    <tr>\n",
       "      <th>1</th>\n",
       "      <td>Chile</td>\n",
       "    </tr>\n",
       "    <tr>\n",
       "      <th>2</th>\n",
       "      <td>Thailand</td>\n",
       "    </tr>\n",
       "    <tr>\n",
       "      <th>3</th>\n",
       "      <td>Hong Kong (SAR)</td>\n",
       "    </tr>\n",
       "    <tr>\n",
       "      <th>4</th>\n",
       "      <td>Denmark</td>\n",
       "    </tr>\n",
       "    <tr>\n",
       "      <th>...</th>\n",
       "      <td>...</td>\n",
       "    </tr>\n",
       "    <tr>\n",
       "      <th>273</th>\n",
       "      <td>Yemen</td>\n",
       "    </tr>\n",
       "    <tr>\n",
       "      <th>274</th>\n",
       "      <td>Ethiopia</td>\n",
       "    </tr>\n",
       "    <tr>\n",
       "      <th>275</th>\n",
       "      <td>Cuba</td>\n",
       "    </tr>\n",
       "    <tr>\n",
       "      <th>276</th>\n",
       "      <td>Turkmenistan</td>\n",
       "    </tr>\n",
       "    <tr>\n",
       "      <th>277</th>\n",
       "      <td>Afghanistan</td>\n",
       "    </tr>\n",
       "  </tbody>\n",
       "</table>\n",
       "<p>278 rows × 1 columns</p>\n",
       "</div>"
      ],
      "text/plain": [
       "             Country\n",
       "0          Singapore\n",
       "1              Chile\n",
       "2           Thailand\n",
       "3    Hong Kong (SAR)\n",
       "4            Denmark\n",
       "..               ...\n",
       "273            Yemen\n",
       "274         Ethiopia\n",
       "275             Cuba\n",
       "276     Turkmenistan\n",
       "277      Afghanistan\n",
       "\n",
       "[278 rows x 1 columns]"
      ]
     },
     "execution_count": 15,
     "metadata": {},
     "output_type": "execute_result"
    }
   ],
   "source": [
    "pd.concat([df,df1],join='inner',ignore_index=True)"
   ]
  },
  {
   "cell_type": "code",
   "execution_count": 16,
   "metadata": {},
   "outputs": [],
   "source": [
    "df2=pd.merge(left=df,right=df1,how='inner',on=['Country'])"
   ]
  },
  {
   "cell_type": "code",
   "execution_count": 17,
   "metadata": {},
   "outputs": [
    {
     "data": {
      "text/plain": [
       "(139, 7)"
      ]
     },
     "execution_count": 17,
     "metadata": {},
     "output_type": "execute_result"
    }
   ],
   "source": [
    "df2.shape"
   ]
  },
  {
   "cell_type": "code",
   "execution_count": 18,
   "metadata": {},
   "outputs": [],
   "source": [
    "\n",
    "from geopy.geocoders import Nominatim\n",
    "geolocator = Nominatim(user_agent=\"sourabh\")\n",
    "def geolocate(country):\n",
    "    try:\n",
    "        loc = geolocator.geocode(country)\n",
    "        return (loc.latitude, loc.longitude,country)\n",
    "    except:\n",
    "        return np.nan"
   ]
  },
  {
   "cell_type": "code",
   "execution_count": 19,
   "metadata": {},
   "outputs": [],
   "source": [
    "c=[]\n",
    "for i in df['Country']:\n",
    "    d=geolocate(i)\n",
    "    c.append(d)"
   ]
  },
  {
   "cell_type": "code",
   "execution_count": 20,
   "metadata": {},
   "outputs": [],
   "source": [
    "df3=pd.DataFrame(c,columns=['latitude','longitude','Country'])"
   ]
  },
  {
   "cell_type": "code",
   "execution_count": 21,
   "metadata": {},
   "outputs": [],
   "source": [
    "df4=pd.merge(left=df2,right=df3,how='inner',on=['Country'])"
   ]
  },
  {
   "cell_type": "code",
   "execution_count": 22,
   "metadata": {},
   "outputs": [
    {
     "data": {
      "text/html": [
       "<div>\n",
       "<style scoped>\n",
       "    .dataframe tbody tr th:only-of-type {\n",
       "        vertical-align: middle;\n",
       "    }\n",
       "\n",
       "    .dataframe tbody tr th {\n",
       "        vertical-align: top;\n",
       "    }\n",
       "\n",
       "    .dataframe thead th {\n",
       "        text-align: right;\n",
       "    }\n",
       "</style>\n",
       "<table border=\"1\" class=\"dataframe\">\n",
       "  <thead>\n",
       "    <tr style=\"text-align: right;\">\n",
       "      <th></th>\n",
       "      <th>Country</th>\n",
       "      <th>Broadband Speed Rank</th>\n",
       "      <th>Broadband Mbps</th>\n",
       "      <th>Mobile Speed Rank</th>\n",
       "      <th>Mobile Mbps</th>\n",
       "      <th>country_code</th>\n",
       "      <th>continent</th>\n",
       "      <th>latitude</th>\n",
       "      <th>longitude</th>\n",
       "    </tr>\n",
       "  </thead>\n",
       "  <tbody>\n",
       "    <tr>\n",
       "      <th>0</th>\n",
       "      <td>Singapore</td>\n",
       "      <td>2.0</td>\n",
       "      <td>192.01</td>\n",
       "      <td>19.0</td>\n",
       "      <td>64.92</td>\n",
       "      <td>SG</td>\n",
       "      <td>AS</td>\n",
       "      <td>1.357107</td>\n",
       "      <td>103.819499</td>\n",
       "    </tr>\n",
       "    <tr>\n",
       "      <th>1</th>\n",
       "      <td>Chile</td>\n",
       "      <td>3.0</td>\n",
       "      <td>189.36</td>\n",
       "      <td>109.0</td>\n",
       "      <td>15.50</td>\n",
       "      <td>CL</td>\n",
       "      <td>SA</td>\n",
       "      <td>-31.761336</td>\n",
       "      <td>-71.318770</td>\n",
       "    </tr>\n",
       "    <tr>\n",
       "      <th>2</th>\n",
       "      <td>Thailand</td>\n",
       "      <td>4.0</td>\n",
       "      <td>184.03</td>\n",
       "      <td>56.0</td>\n",
       "      <td>32.38</td>\n",
       "      <td>TH</td>\n",
       "      <td>AS</td>\n",
       "      <td>14.897192</td>\n",
       "      <td>100.832730</td>\n",
       "    </tr>\n",
       "    <tr>\n",
       "      <th>3</th>\n",
       "      <td>Hong Kong (SAR)</td>\n",
       "      <td>5.0</td>\n",
       "      <td>173.42</td>\n",
       "      <td>38.0</td>\n",
       "      <td>45.86</td>\n",
       "      <td>Unknown</td>\n",
       "      <td>Unknown</td>\n",
       "      <td>22.350627</td>\n",
       "      <td>114.184916</td>\n",
       "    </tr>\n",
       "    <tr>\n",
       "      <th>4</th>\n",
       "      <td>Denmark</td>\n",
       "      <td>6.0</td>\n",
       "      <td>163.60</td>\n",
       "      <td>8.0</td>\n",
       "      <td>87.11</td>\n",
       "      <td>DK</td>\n",
       "      <td>EU</td>\n",
       "      <td>55.670249</td>\n",
       "      <td>10.333328</td>\n",
       "    </tr>\n",
       "  </tbody>\n",
       "</table>\n",
       "</div>"
      ],
      "text/plain": [
       "           Country  Broadband Speed Rank  Broadband Mbps  Mobile Speed Rank  \\\n",
       "0        Singapore                   2.0          192.01               19.0   \n",
       "1            Chile                   3.0          189.36              109.0   \n",
       "2         Thailand                   4.0          184.03               56.0   \n",
       "3  Hong Kong (SAR)                   5.0          173.42               38.0   \n",
       "4          Denmark                   6.0          163.60                8.0   \n",
       "\n",
       "   Mobile Mbps country_code continent   latitude   longitude  \n",
       "0        64.92           SG        AS   1.357107  103.819499  \n",
       "1        15.50           CL        SA -31.761336  -71.318770  \n",
       "2        32.38           TH        AS  14.897192  100.832730  \n",
       "3        45.86      Unknown   Unknown  22.350627  114.184916  \n",
       "4        87.11           DK        EU  55.670249   10.333328  "
      ]
     },
     "execution_count": 22,
     "metadata": {},
     "output_type": "execute_result"
    }
   ],
   "source": [
    "df4.head()"
   ]
  },
  {
   "cell_type": "code",
   "execution_count": 23,
   "metadata": {
    "execution": {
     "iopub.execute_input": "2022-02-26T04:52:42.153012Z",
     "iopub.status.busy": "2022-02-26T04:52:42.151940Z",
     "iopub.status.idle": "2022-02-26T04:52:42.159387Z",
     "shell.execute_reply": "2022-02-26T04:52:42.158689Z",
     "shell.execute_reply.started": "2022-02-26T04:52:42.152968Z"
    }
   },
   "outputs": [],
   "source": [
    "df4[['Broadband Speed Rank','Mobile Speed Rank']]=df4[['Broadband Speed Rank','Mobile Speed Rank']].astype(int)"
   ]
  },
  {
   "cell_type": "code",
   "execution_count": 24,
   "metadata": {},
   "outputs": [],
   "source": [
    "df4['country']=df4['Country'].values.astype(str)"
   ]
  },
  {
   "cell_type": "code",
   "execution_count": 25,
   "metadata": {
    "execution": {
     "iopub.execute_input": "2022-02-26T04:52:51.625639Z",
     "iopub.status.busy": "2022-02-26T04:52:51.625168Z",
     "iopub.status.idle": "2022-02-26T04:52:51.641528Z",
     "shell.execute_reply": "2022-02-26T04:52:51.640606Z",
     "shell.execute_reply.started": "2022-02-26T04:52:51.625605Z"
    }
   },
   "outputs": [
    {
     "data": {
      "text/html": [
       "<div>\n",
       "<style scoped>\n",
       "    .dataframe tbody tr th:only-of-type {\n",
       "        vertical-align: middle;\n",
       "    }\n",
       "\n",
       "    .dataframe tbody tr th {\n",
       "        vertical-align: top;\n",
       "    }\n",
       "\n",
       "    .dataframe thead th {\n",
       "        text-align: right;\n",
       "    }\n",
       "</style>\n",
       "<table border=\"1\" class=\"dataframe\">\n",
       "  <thead>\n",
       "    <tr style=\"text-align: right;\">\n",
       "      <th></th>\n",
       "      <th>Country</th>\n",
       "      <th>Broadband Speed Rank</th>\n",
       "      <th>Broadband Mbps</th>\n",
       "      <th>Mobile Speed Rank</th>\n",
       "      <th>Mobile Mbps</th>\n",
       "      <th>country_code</th>\n",
       "      <th>continent</th>\n",
       "      <th>latitude</th>\n",
       "      <th>longitude</th>\n",
       "      <th>country</th>\n",
       "    </tr>\n",
       "  </thead>\n",
       "  <tbody>\n",
       "    <tr>\n",
       "      <th>0</th>\n",
       "      <td>Singapore</td>\n",
       "      <td>2</td>\n",
       "      <td>192.01</td>\n",
       "      <td>19</td>\n",
       "      <td>64.92</td>\n",
       "      <td>SG</td>\n",
       "      <td>AS</td>\n",
       "      <td>1.357107</td>\n",
       "      <td>103.819499</td>\n",
       "      <td>Singapore</td>\n",
       "    </tr>\n",
       "    <tr>\n",
       "      <th>1</th>\n",
       "      <td>Chile</td>\n",
       "      <td>3</td>\n",
       "      <td>189.36</td>\n",
       "      <td>109</td>\n",
       "      <td>15.50</td>\n",
       "      <td>CL</td>\n",
       "      <td>SA</td>\n",
       "      <td>-31.761336</td>\n",
       "      <td>-71.318770</td>\n",
       "      <td>Chile</td>\n",
       "    </tr>\n",
       "    <tr>\n",
       "      <th>2</th>\n",
       "      <td>Thailand</td>\n",
       "      <td>4</td>\n",
       "      <td>184.03</td>\n",
       "      <td>56</td>\n",
       "      <td>32.38</td>\n",
       "      <td>TH</td>\n",
       "      <td>AS</td>\n",
       "      <td>14.897192</td>\n",
       "      <td>100.832730</td>\n",
       "      <td>Thailand</td>\n",
       "    </tr>\n",
       "    <tr>\n",
       "      <th>3</th>\n",
       "      <td>Hong Kong (SAR)</td>\n",
       "      <td>5</td>\n",
       "      <td>173.42</td>\n",
       "      <td>38</td>\n",
       "      <td>45.86</td>\n",
       "      <td>Unknown</td>\n",
       "      <td>Unknown</td>\n",
       "      <td>22.350627</td>\n",
       "      <td>114.184916</td>\n",
       "      <td>Hong Kong (SAR)</td>\n",
       "    </tr>\n",
       "    <tr>\n",
       "      <th>4</th>\n",
       "      <td>Denmark</td>\n",
       "      <td>6</td>\n",
       "      <td>163.60</td>\n",
       "      <td>8</td>\n",
       "      <td>87.11</td>\n",
       "      <td>DK</td>\n",
       "      <td>EU</td>\n",
       "      <td>55.670249</td>\n",
       "      <td>10.333328</td>\n",
       "      <td>Denmark</td>\n",
       "    </tr>\n",
       "  </tbody>\n",
       "</table>\n",
       "</div>"
      ],
      "text/plain": [
       "           Country  Broadband Speed Rank  Broadband Mbps  Mobile Speed Rank  \\\n",
       "0        Singapore                     2          192.01                 19   \n",
       "1            Chile                     3          189.36                109   \n",
       "2         Thailand                     4          184.03                 56   \n",
       "3  Hong Kong (SAR)                     5          173.42                 38   \n",
       "4          Denmark                     6          163.60                  8   \n",
       "\n",
       "   Mobile Mbps country_code continent   latitude   longitude          country  \n",
       "0        64.92           SG        AS   1.357107  103.819499        Singapore  \n",
       "1        15.50           CL        SA -31.761336  -71.318770            Chile  \n",
       "2        32.38           TH        AS  14.897192  100.832730         Thailand  \n",
       "3        45.86      Unknown   Unknown  22.350627  114.184916  Hong Kong (SAR)  \n",
       "4        87.11           DK        EU  55.670249   10.333328          Denmark  "
      ]
     },
     "execution_count": 25,
     "metadata": {},
     "output_type": "execute_result"
    }
   ],
   "source": [
    "df4.head()"
   ]
  },
  {
   "cell_type": "code",
   "execution_count": 26,
   "metadata": {},
   "outputs": [
    {
     "name": "stdout",
     "output_type": "stream",
     "text": [
      "Country                  object\n",
      "Broadband Speed Rank      int32\n",
      "Broadband Mbps          float64\n",
      "Mobile Speed Rank         int32\n",
      "Mobile Mbps             float64\n",
      "country_code             object\n",
      "continent                object\n",
      "latitude                float64\n",
      "longitude               float64\n",
      "country                  object\n",
      "dtype: object\n"
     ]
    }
   ],
   "source": [
    "print(df4.dtypes)"
   ]
  },
  {
   "cell_type": "code",
   "execution_count": 29,
   "metadata": {
    "execution": {
     "iopub.execute_input": "2022-02-26T04:42:21.371498Z",
     "iopub.status.busy": "2022-02-26T04:42:21.371152Z",
     "iopub.status.idle": "2022-02-26T04:42:22.218882Z",
     "shell.execute_reply": "2022-02-26T04:42:22.218008Z",
     "shell.execute_reply.started": "2022-02-26T04:42:21.371460Z"
    }
   },
   "outputs": [],
   "source": [
    "world_map= folium.Map(tiles=\"cartodbpositron\")\n",
    "marker_cluster = MarkerCluster().add_to(world_map)\n",
    "def popup_html(row):\n",
    "    i=row\n",
    "    country=df4.iloc[i]['Country']\n",
    "    rank  =df4.iloc[i]['Broadband Speed Rank']\n",
    "    speed   =df4.iloc[i]['Broadband Mbps']\n",
    "    html= \"\"\"<!DOCTYPE html>\n",
    "<html> \n",
    "    \n",
    "    \n",
    "<head style='background-color:#949398FF'>    \n",
    "    <h1 style='font-size:30px;color:#5B84B1FF'>{}\"\"\".format(country) +\"\"\"</h1>\n",
    "    </head>\n",
    "    <body >\n",
    "             <p style='color:#FC766AFF'>Rank:</p>{}\"\"\".format(rank) +\"\"\"\n",
    "             <p style='color:#FC766AFF'>Speed(mbps):</p>{}\"\"\".format(speed) +\"\"\"\n",
    "             \n",
    "     </body>        \n",
    "            </html> \n",
    "             \"\"\"\n",
    "    \n",
    "    return  html\n",
    "    \n",
    "for i in range(len(df4)):\n",
    "        lat = df4.iloc[i]['latitude']\n",
    "        long = df4.iloc[i]['longitude']\n",
    "        radius=5\n",
    "        html=popup_html(i)\n",
    "        popup = folium.Popup(folium.Html(html, script=True))\n",
    "        folium.CircleMarker(location = [lat, long], radius=radius, popup= popup, fill =True).add_to(marker_cluster)\n",
    "title_html = '''\n",
    "             <h3 align=\"center\" style=\"font-size:20px;text-transform: capitalize\"><b>Broadband speed & ranking</b></h3>\n",
    "             '''\n",
    "#show the map\n",
    "world_map.get_root().html.add_child(folium.Element(title_html))\n",
    "world_map\n",
    "world_map.save(outfile=\"Map.html\")"
   ]
  },
  {
   "cell_type": "code",
   "execution_count": null,
   "metadata": {},
   "outputs": [],
   "source": []
  }
 ],
 "metadata": {
  "kernelspec": {
   "display_name": "Python 3",
   "language": "python",
   "name": "python3"
  },
  "language_info": {
   "codemirror_mode": {
    "name": "ipython",
    "version": 3
   },
   "file_extension": ".py",
   "mimetype": "text/x-python",
   "name": "python",
   "nbconvert_exporter": "python",
   "pygments_lexer": "ipython3",
   "version": "3.7.3"
  }
 },
 "nbformat": 4,
 "nbformat_minor": 2
}
